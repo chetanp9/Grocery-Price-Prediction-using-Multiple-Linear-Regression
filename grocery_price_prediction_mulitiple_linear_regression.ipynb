{
 "cells": [
  {
   "cell_type": "code",
   "execution_count": 1,
   "metadata": {},
   "outputs": [],
   "source": [
    "import numpy as np\n",
    "import pandas as pd\n",
    "import matplotlib.pyplot as plt\n",
    "import seaborn as sns\n",
    "%matplotlib inline"
   ]
  },
  {
   "cell_type": "code",
   "execution_count": 2,
   "metadata": {},
   "outputs": [
    {
     "data": {
      "text/html": [
       "<div>\n",
       "<style scoped>\n",
       "    .dataframe tbody tr th:only-of-type {\n",
       "        vertical-align: middle;\n",
       "    }\n",
       "\n",
       "    .dataframe tbody tr th {\n",
       "        vertical-align: top;\n",
       "    }\n",
       "\n",
       "    .dataframe thead th {\n",
       "        text-align: right;\n",
       "    }\n",
       "</style>\n",
       "<table border=\"1\" class=\"dataframe\">\n",
       "  <thead>\n",
       "    <tr style=\"text-align: right;\">\n",
       "      <th></th>\n",
       "      <th>diffgr:id</th>\n",
       "      <th>msdata:rowOrder</th>\n",
       "      <th>State</th>\n",
       "      <th>District</th>\n",
       "      <th>Market</th>\n",
       "      <th>Commodity</th>\n",
       "      <th>Variety</th>\n",
       "      <th>Grade</th>\n",
       "      <th>Arrival_Date</th>\n",
       "      <th>Min_x0020_Price</th>\n",
       "      <th>Max_x0020_Price</th>\n",
       "      <th>Modal_x0020_Price</th>\n",
       "    </tr>\n",
       "  </thead>\n",
       "  <tbody>\n",
       "    <tr>\n",
       "      <th>0</th>\n",
       "      <td>Table1</td>\n",
       "      <td>0</td>\n",
       "      <td>Andhra Pradesh</td>\n",
       "      <td>Chittor</td>\n",
       "      <td>Chittoor</td>\n",
       "      <td>Gur(Jaggery)</td>\n",
       "      <td>NO 1</td>\n",
       "      <td>FAQ</td>\n",
       "      <td>24/02/2023</td>\n",
       "      <td>4000</td>\n",
       "      <td>4100.0</td>\n",
       "      <td>4000.0</td>\n",
       "    </tr>\n",
       "    <tr>\n",
       "      <th>1</th>\n",
       "      <td>Table2</td>\n",
       "      <td>1</td>\n",
       "      <td>Andhra Pradesh</td>\n",
       "      <td>Chittor</td>\n",
       "      <td>Chittoor</td>\n",
       "      <td>Gur(Jaggery)</td>\n",
       "      <td>NO 2</td>\n",
       "      <td>FAQ</td>\n",
       "      <td>24/02/2023</td>\n",
       "      <td>3000</td>\n",
       "      <td>3500.0</td>\n",
       "      <td>3500.0</td>\n",
       "    </tr>\n",
       "    <tr>\n",
       "      <th>2</th>\n",
       "      <td>Table3</td>\n",
       "      <td>2</td>\n",
       "      <td>Andhra Pradesh</td>\n",
       "      <td>Chittor</td>\n",
       "      <td>Chittoor</td>\n",
       "      <td>Gur(Jaggery)</td>\n",
       "      <td>NO 3</td>\n",
       "      <td>FAQ</td>\n",
       "      <td>24/02/2023</td>\n",
       "      <td>2300</td>\n",
       "      <td>2300.0</td>\n",
       "      <td>2300.0</td>\n",
       "    </tr>\n",
       "    <tr>\n",
       "      <th>3</th>\n",
       "      <td>Table4</td>\n",
       "      <td>3</td>\n",
       "      <td>Andhra Pradesh</td>\n",
       "      <td>Chittor</td>\n",
       "      <td>Punganur</td>\n",
       "      <td>Tomato</td>\n",
       "      <td>Hybrid</td>\n",
       "      <td>FAQ</td>\n",
       "      <td>24/02/2023</td>\n",
       "      <td>1340</td>\n",
       "      <td>2000.0</td>\n",
       "      <td>1670.0</td>\n",
       "    </tr>\n",
       "    <tr>\n",
       "      <th>4</th>\n",
       "      <td>Table5</td>\n",
       "      <td>4</td>\n",
       "      <td>Andhra Pradesh</td>\n",
       "      <td>Chittor</td>\n",
       "      <td>Vayalapadu</td>\n",
       "      <td>Tomato</td>\n",
       "      <td>Local</td>\n",
       "      <td>FAQ</td>\n",
       "      <td>24/02/2023</td>\n",
       "      <td>640</td>\n",
       "      <td>2160.0</td>\n",
       "      <td>1400.0</td>\n",
       "    </tr>\n",
       "  </tbody>\n",
       "</table>\n",
       "</div>"
      ],
      "text/plain": [
       "  diffgr:id  msdata:rowOrder           State District      Market  \\\n",
       "0    Table1                0  Andhra Pradesh  Chittor    Chittoor   \n",
       "1    Table2                1  Andhra Pradesh  Chittor    Chittoor   \n",
       "2    Table3                2  Andhra Pradesh  Chittor    Chittoor   \n",
       "3    Table4                3  Andhra Pradesh  Chittor    Punganur   \n",
       "4    Table5                4  Andhra Pradesh  Chittor  Vayalapadu   \n",
       "\n",
       "      Commodity Variety Grade Arrival_Date  Min_x0020_Price  Max_x0020_Price  \\\n",
       "0  Gur(Jaggery)    NO 1   FAQ   24/02/2023             4000           4100.0   \n",
       "1  Gur(Jaggery)    NO 2   FAQ   24/02/2023             3000           3500.0   \n",
       "2  Gur(Jaggery)    NO 3   FAQ   24/02/2023             2300           2300.0   \n",
       "3        Tomato  Hybrid   FAQ   24/02/2023             1340           2000.0   \n",
       "4        Tomato   Local   FAQ   24/02/2023              640           2160.0   \n",
       "\n",
       "   Modal_x0020_Price  \n",
       "0             4000.0  \n",
       "1             3500.0  \n",
       "2             2300.0  \n",
       "3             1670.0  \n",
       "4             1400.0  "
      ]
     },
     "execution_count": 2,
     "metadata": {},
     "output_type": "execute_result"
    }
   ],
   "source": [
    "df=pd.read_excel('Date-Wise-Prices-all-Commodity.xlsx')\n",
    "df.head()"
   ]
  },
  {
   "cell_type": "code",
   "execution_count": 3,
   "metadata": {},
   "outputs": [
    {
     "data": {
      "text/plain": [
       "diffgr:id            0\n",
       "msdata:rowOrder      0\n",
       "State                0\n",
       "District             0\n",
       "Market               0\n",
       "Commodity            0\n",
       "Variety              0\n",
       "Grade                0\n",
       "Arrival_Date         0\n",
       "Min_x0020_Price      0\n",
       "Max_x0020_Price      0\n",
       "Modal_x0020_Price    0\n",
       "dtype: int64"
      ]
     },
     "execution_count": 3,
     "metadata": {},
     "output_type": "execute_result"
    }
   ],
   "source": [
    "df.isnull().sum()"
   ]
  },
  {
   "cell_type": "code",
   "execution_count": 4,
   "metadata": {},
   "outputs": [
    {
     "data": {
      "text/plain": [
       "array(['Chittoor', 'Punganur', 'Vayalapadu', 'Alur', 'Atmakur',\n",
       "       'Banaganapalli', 'Nandikotkur', 'Gopalavaram', 'Bihiya', 'Kaimur',\n",
       "       'Bahadurganj', 'Munghair', 'Nawada',\n",
       "       'Parsoniya Mandi, Mahua block', 'Chandigarh(Grain/Fruit)',\n",
       "       'Bhatgaon', 'Kasdol', 'Sarsiwan', 'Kusmee', 'Bilaspur',\n",
       "       'Pendraroad', 'Sakri', 'Takhatpur', 'Tiphra', 'Gidam',\n",
       "       'Belarbahara', 'Belargaon', 'Boraee', 'Gattasilli', 'Nagari',\n",
       "       'Durg', 'Champa', 'Pathalgaon', 'Kawardha', 'Pipriya',\n",
       "       'Bhanupratappur', 'Charama', 'Korar', 'Lakhanpuri', 'Narharpur',\n",
       "       'Sambalpur', 'Manendragarh', 'Abhanpur', 'Arang', 'Rajnandgaon',\n",
       "       'Pratappur', 'Surajpur', 'Sanquelim', 'Babra', 'Bagasara',\n",
       "       'Damnagar', 'Vav', 'Ankleshwar', 'Jambusar', 'Jambusar(Kaavi)',\n",
       "       'Botad(Haddad)', 'Dahod', 'Dahod(Veg. Market)', 'Dehgam',\n",
       "       'Dehgam(Rekhiyal)', 'Mansa(Manas Veg Yard)', 'Bhanvad', 'Dhrol',\n",
       "       'Kodinar', 'Kodinar(Dollasa)', 'Mangrol', 'Visavadar', 'Rapar',\n",
       "       'Mehmadabad', 'Vankaner', 'Vankaner(Sub yard)', 'Sami', 'Dhoraji',\n",
       "       'Rajkot', 'Rajkot(Ghee Peeth)', 'Modasa', 'Modasa(Tintoi)',\n",
       "       'Surat', 'Chotila', 'Dasada Patadi', 'Halvad', 'Vadhvan', 'Bodeli',\n",
       "       'Padra', 'Mullana', 'Mullana(saha)', 'Naraingarh', 'Shahzadpur',\n",
       "       'New Grain Market , Faridabad', 'Farukh Nagar', 'Hansi', 'Pehowa',\n",
       "       'Shahabad', 'Mohindergarh', 'Narnaul', 'FerozpurZirkha(Nagina)',\n",
       "       'Punhana', 'Taura', 'New Grain Market , Panchkula',\n",
       "       'Panchkul(Kalka)', 'Panipat', 'Rewari', 'Meham', 'kalanwali',\n",
       "       'Gohana', 'Chhachrauli', 'Radaur', 'Chamba', 'Kangra',\n",
       "       'Kangra(Baijnath)', 'Kangra(Jaisinghpur)',\n",
       "       'Kangra(Nagrota Bagwan)', 'Palampur', 'Bhuntar', 'Kullu', 'Shimla',\n",
       "       'Shimla and Kinnaur(Rampur)', 'Nahan', 'Paonta Sahib', 'Solan',\n",
       "       'Santoshgarh', 'Una', 'Udhampur', 'Kanakapura', 'Ramanagara',\n",
       "       'Chikkamagalore', 'Harihara', 'Honnali', 'Arasikere', 'Bangarpet',\n",
       "       'Chintamani', 'Mandya', 'Sindhanur', 'Shimoga', 'Alappuzha',\n",
       "       'Aroor', 'Chengannur', 'Cherthala', 'Harippad', 'Kayamkulam',\n",
       "       'Madhavapuram', 'Aluva', 'Angamaly', 'Ernakulam', 'Perumbavoor',\n",
       "       'Piravam', 'Thrippunithura', 'Kattappana', 'Thodupuzha', 'Irikkur',\n",
       "       'Payyannur', 'Taliparamba', 'Kanjangadu', 'Anchal', 'Chathanoor',\n",
       "       'Kottarakkara', 'Punalur', 'Sasthamkotta', 'Kanjirappally',\n",
       "       'Pampady', 'Thalayolaparambu', 'Kallachi', 'Mukkom', 'Palayam',\n",
       "       'Kottakkal', 'Manjeri', 'Perinthalmanna', 'Thirurrangadi',\n",
       "       'Palakkad', 'Pattambi', 'Vadakkenchery', 'Chavakkad',\n",
       "       'Kodungalloor', 'Mattathur', 'Wadakkanchery', 'Anyara(EEC)',\n",
       "       'Aralamoodu', 'Neyyatinkara', 'Pothencode', 'Kalpetta',\n",
       "       'Manathavady', 'Pulpally', 'Ashoknagar', 'Ashoknagar(F&V)',\n",
       "       'Balaghat', 'Pandhurna', 'Dewas', 'Dewas(F&V)', 'Khategaon',\n",
       "       'Dhamnod', 'Jhabua', 'Pandhana(F&V)', 'Khargone', 'Bhanpura',\n",
       "       'Panna', 'Pawai', 'Khujner', 'Sailana', 'Kalapipal', 'Magroni',\n",
       "       'Rahata', 'Rahuri', 'Shrirampur', 'Gandchiroli',\n",
       "       'Jalgaon(Masawat)', 'Mumbai', 'Kalmeshwar', 'Kamthi', 'Mudkhed',\n",
       "       'Devala', 'Kalvan', 'Lasalgaon', 'Lasalgaon(Niphad)', 'Manmad',\n",
       "       'Khed(Chakan)', 'Pune(Khadiki)', 'Pune(Moshi)', 'Pune(Pimpri)',\n",
       "       'Alibagh', 'Murud', 'Roha', 'Sangli(Phale, Bhajipura Market)',\n",
       "       'Vai', 'Kalyan', 'Murbad', 'Palghar', 'Bishenpur',\n",
       "       'Lamlong Bazaar', 'Thoubal', 'Shillong', 'Rongram', 'Tura',\n",
       "       'Niuland', 'Kohima', 'Azadpur',\n",
       "       'Fish,Poultry & Egg Market, Gazipur', 'Nilagiri', 'Attabira',\n",
       "       'Bargarh', 'Bargarh(Barapalli)', 'Bhadrak', 'Chandabali',\n",
       "       'Sahidngar', 'Kantabaji', 'Hindol', 'Kamakhyanagar', 'Kasinagar',\n",
       "       'Parlakhemundi', 'Jagatsinghpur', 'Jharsuguda', 'Kesinga',\n",
       "       'Anandapur', 'Baripada', 'Betnoti', 'Karanjia', 'Birmaharajpur',\n",
       "       'Panposh', 'Sargipali', 'Mehta', 'Rayya', 'Bhagta Bhai Ka', 'Maur',\n",
       "       'Talwandi Sabo', 'Bassi Pathana', 'Sirhind', 'Fazilka',\n",
       "       'Jalalabad', 'Firozepur City', 'Dinanagar', 'Garh Shankar',\n",
       "       'Mukerian(Talwara)', 'Bilga', 'Lohian Khas', 'Sultanpur', 'Doraha',\n",
       "       'Khanna', 'Sahnewal', 'Mansa', 'Kot ise Khan', 'Moga',\n",
       "       'Dera Bassi', 'Lalru', 'Chamkaur Sahib', 'Morinda', 'Ropar',\n",
       "       'Bhawanigarh', 'Dhuri', 'Khadur Sahib(Fetehabad)', 'Patti',\n",
       "       'Ajmer(F&V)', 'Beawar', 'Bijay Nagar', 'Vijay Nagar(Gulabpura)',\n",
       "       'Barmer', 'Bikaner(F&V)', 'Kapasan', 'Churu', 'Lalsot',\n",
       "       'Lalsot(Mandabari)', 'Sriganganagar', 'Goluwala',\n",
       "       'Hanumangarh Town', 'Sangriya', 'Jaipur(Bassi)',\n",
       "       'Bheenmal(Ranlwada)', 'Jalore', 'Nawalgarh',\n",
       "       'Jodhpur (Grain)(Mandor)', 'Jodhpur(F&V)(Bhadwasia)', 'Rani',\n",
       "       'Rajasamand', 'Surajgarh', 'Malpura', 'Jayamkondam', 'Chengeri',\n",
       "       'Karamadai', 'Madathukulam', 'Palladam', 'Pethappampatti',\n",
       "       'Pollachi', 'Pudupalayam', 'Thiruppur', 'Udumalpet', 'Gopalpatti',\n",
       "       'Oddunchairum', 'Anthiyur', 'Erode', 'Kangeyam', 'Muthur',\n",
       "       'Perundurai', 'Vellakkoil', 'Madurai', 'Usilampatty',\n",
       "       'Namagiripettai', 'Namakkal', 'Rasipuram', 'Tiruchengode', 'Velur',\n",
       "       'Attur', 'Gangavalli', 'Karumanturai', 'Kolathur', 'Konganapuram',\n",
       "       'Omalur', 'Salem', 'Thalaivasal', 'Thammampati', 'Vazhapadi',\n",
       "       'Theni', 'Vettavalam', 'Ammoor', 'Chinnasalem', 'Kallakurichi',\n",
       "       'Thiryagadurgam', 'Adilabad', 'Adilabad(Rythu Bazar)', 'Boath',\n",
       "       'Ichoda', 'Kuber', 'Nirmal', 'Sarangapur', 'L B Nagar',\n",
       "       'Mahboob Manison', 'Choppadandi', 'Dharmaram', 'Gangadhara',\n",
       "       'Gopalraopet', 'Karimnagar', 'Kataram', 'Koratla',\n",
       "       'Mallial(Cheppial)', 'Pudur', 'Vemulawada', 'Bhadrachalam',\n",
       "       'Charla', 'Khammam', 'Madhira', 'Alampur', 'Devarakadra', 'Gadwal',\n",
       "       'Gadwal(Lezza)', 'Makthal', 'Nagarkurnool', 'Wanaparthy town',\n",
       "       'Dubbak', 'Sangareddy', 'Aler', 'Chandur', 'Chandur(Mungodu)',\n",
       "       'Chityal', 'Devarakonda', 'Devarkonda(Dindi)',\n",
       "       'Devarkonda(Mallepalli)', 'Halia', 'Kodad', 'Miryalaguda',\n",
       "       'Mothkur', 'Nakrekal', 'Nalgonda', 'Ramannapet', 'Thungathurthy',\n",
       "       'Tirumalagiri', 'Venkateswarnagar',\n",
       "       'Venkateswarnagar(Chintapalli)', 'Voligonda', 'Bhiknoor',\n",
       "       'Kamareddy', 'Pitlam', 'Chevella', 'Ibrahimputnam',\n",
       "       'Kukatpally(Rythu Bazar)', 'Mehndipatnam(Rythu Bazar)',\n",
       "       'Sardarnagar', 'Warangal', 'Chowmanu', 'Boxonagar', 'Sonamura',\n",
       "       'Pabiacherra', 'Khairagarh', 'Samsabad', 'Aligarh', 'Atrauli',\n",
       "       'Charra', 'Khair', 'Ajuha', 'Allahabad', 'Jasra', 'Sirsa',\n",
       "       'Akbarpur', 'Achalda', 'Auraiya', 'Azamgarh', 'Babrala',\n",
       "       'Badayoun', 'Shahaswan', 'Visoli', 'Wazirganj', 'Baraut',\n",
       "       'Bahraich', 'Mihipurwa', 'Naanpara', 'Risia', 'Ballia',\n",
       "       'Chitwadagaon', 'Tulsipur', 'Baberu', 'Banda', 'Rudauli',\n",
       "       'Safdarganj', 'Bahedi', 'Bareilly', 'Richha', 'Basti', 'Bijnaur',\n",
       "       'Nagina', 'Divai', 'Gulavati', 'Khurja', 'Sikarpur', 'Siyana',\n",
       "       'Chandoli', 'Barhaj', 'Devariya', 'Aliganj', 'Awagarh', 'Etah',\n",
       "       'Ganjdudwara', 'Kasganj', 'Bharthna', 'Etawah', 'Jasvantnagar',\n",
       "       'Farukhabad', 'Kamlaganj', 'Kayamganj', 'Bindki', 'Fatehpur',\n",
       "       'Jahanabad', 'Kishunpur', 'Firozabad', 'Shikohabad', 'Tundla',\n",
       "       'Dadri', 'Ghaziabad', 'Muradnagar', 'Noida', 'Gazipur',\n",
       "       'Jangipura', 'Nawabganj', 'Gorakhpur', 'Kurara', 'Maudaha',\n",
       "       'Hardoi', 'Madhoganj', 'Sandila', 'Haathras', 'Shadabad', 'Ait',\n",
       "       'Jalaun', 'Kalpi', 'Madhogarh', 'Orai', 'Jaunpur',\n",
       "       'Mugrabaadshahpur', 'Shahganj', 'Baruwasagar', 'Chirgaon',\n",
       "       'Gurusarai', 'Moth', 'Hasanpur', 'Chhibramau(Kannuj)', 'Kannauj',\n",
       "       'Choubepur', 'Kanpur(Grain)', 'Uttaripura', 'Maigalganj',\n",
       "       'Mohammdi', 'Tikonia', 'Golagokarnath', 'Lakhimpur', 'Lalitpur',\n",
       "       'Mehrauni', 'Lucknow', 'Gadaura', 'Nautnava', 'Charkhari',\n",
       "       'Mahoba', 'Bewar', 'Mainpuri', 'Kosikalan', 'Mathura', 'Kopaganj',\n",
       "       'Mirzapur', 'Sambhal', 'Kadhle', 'Muzzafarnagar', 'Shahpur',\n",
       "       'Thanabhawan', 'Pilibhit', 'Puranpur', 'Vishalpur', 'Bachranwa',\n",
       "       'Jayas', 'Lalganj', 'Raibareilly', 'Salon', 'Rampur', 'Vilaspur',\n",
       "       'Chutmalpur', 'Gangoh', 'Nakud', 'Saharanpur', 'Khalilabad',\n",
       "       'Puwaha', 'Shahjahanpur', 'Payagpur', 'Sahiyapur', 'Misrikh',\n",
       "       'Sindholi', 'Sitapur', 'Viswan', 'Purwa', 'Unnao', 'Vikasnagar',\n",
       "       'Bhagwanpur(Naveen Mandi Sthal)', 'Haridwar Union', 'Gadarpur',\n",
       "       'Bankura Sadar', 'Indus(Bankura Sadar)', 'Rampurhat', 'Sainthia',\n",
       "       'Asansol', 'Durgapur', 'Baxirhat', 'Dinhata', 'Mathabhanga',\n",
       "       'Toofanganj', 'Gangarampur(Dakshin Dinajpur)',\n",
       "       'Karsiyang(Matigara)', 'Pandua', 'Sheoraphuly', 'Belacoba',\n",
       "       'Dhupguri', 'Jalpaiguri Sadar', 'Moynaguri', 'English Bazar',\n",
       "       'Jhargram', 'Beldanga', 'Kandi', 'Nadia', 'Baruipur(Canning)',\n",
       "       'Diamond Harbour(South 24-pgs)'], dtype=object)"
      ]
     },
     "execution_count": 4,
     "metadata": {},
     "output_type": "execute_result"
    }
   ],
   "source": [
    "df['Market'].unique()"
   ]
  },
  {
   "cell_type": "code",
   "execution_count": 5,
   "metadata": {},
   "outputs": [
    {
     "name": "stdout",
     "output_type": "stream",
     "text": [
      "<class 'pandas.core.frame.DataFrame'>\n",
      "RangeIndex: 6435 entries, 0 to 6434\n",
      "Data columns (total 12 columns):\n",
      " #   Column             Non-Null Count  Dtype  \n",
      "---  ------             --------------  -----  \n",
      " 0   diffgr:id          6435 non-null   object \n",
      " 1   msdata:rowOrder    6435 non-null   int64  \n",
      " 2   State              6435 non-null   object \n",
      " 3   District           6435 non-null   object \n",
      " 4   Market             6435 non-null   object \n",
      " 5   Commodity          6435 non-null   object \n",
      " 6   Variety            6435 non-null   object \n",
      " 7   Grade              6435 non-null   object \n",
      " 8   Arrival_Date       6435 non-null   object \n",
      " 9   Min_x0020_Price    6435 non-null   int64  \n",
      " 10  Max_x0020_Price    6435 non-null   float64\n",
      " 11  Modal_x0020_Price  6435 non-null   float64\n",
      "dtypes: float64(2), int64(2), object(8)\n",
      "memory usage: 603.4+ KB\n"
     ]
    }
   ],
   "source": [
    "df.info()"
   ]
  },
  {
   "cell_type": "code",
   "execution_count": 6,
   "metadata": {},
   "outputs": [
    {
     "data": {
      "text/html": [
       "<div>\n",
       "<style scoped>\n",
       "    .dataframe tbody tr th:only-of-type {\n",
       "        vertical-align: middle;\n",
       "    }\n",
       "\n",
       "    .dataframe tbody tr th {\n",
       "        vertical-align: top;\n",
       "    }\n",
       "\n",
       "    .dataframe thead th {\n",
       "        text-align: right;\n",
       "    }\n",
       "</style>\n",
       "<table border=\"1\" class=\"dataframe\">\n",
       "  <thead>\n",
       "    <tr style=\"text-align: right;\">\n",
       "      <th></th>\n",
       "      <th>Market</th>\n",
       "      <th>Commodity</th>\n",
       "      <th>Variety</th>\n",
       "      <th>Grade</th>\n",
       "      <th>Arrival_Date</th>\n",
       "      <th>Min_x0020_Price</th>\n",
       "      <th>Max_x0020_Price</th>\n",
       "    </tr>\n",
       "  </thead>\n",
       "  <tbody>\n",
       "    <tr>\n",
       "      <th>0</th>\n",
       "      <td>Chittoor</td>\n",
       "      <td>Gur(Jaggery)</td>\n",
       "      <td>NO 1</td>\n",
       "      <td>FAQ</td>\n",
       "      <td>24/02/2023</td>\n",
       "      <td>4000</td>\n",
       "      <td>4100.0</td>\n",
       "    </tr>\n",
       "    <tr>\n",
       "      <th>1</th>\n",
       "      <td>Chittoor</td>\n",
       "      <td>Gur(Jaggery)</td>\n",
       "      <td>NO 2</td>\n",
       "      <td>FAQ</td>\n",
       "      <td>24/02/2023</td>\n",
       "      <td>3000</td>\n",
       "      <td>3500.0</td>\n",
       "    </tr>\n",
       "    <tr>\n",
       "      <th>2</th>\n",
       "      <td>Chittoor</td>\n",
       "      <td>Gur(Jaggery)</td>\n",
       "      <td>NO 3</td>\n",
       "      <td>FAQ</td>\n",
       "      <td>24/02/2023</td>\n",
       "      <td>2300</td>\n",
       "      <td>2300.0</td>\n",
       "    </tr>\n",
       "    <tr>\n",
       "      <th>3</th>\n",
       "      <td>Punganur</td>\n",
       "      <td>Tomato</td>\n",
       "      <td>Hybrid</td>\n",
       "      <td>FAQ</td>\n",
       "      <td>24/02/2023</td>\n",
       "      <td>1340</td>\n",
       "      <td>2000.0</td>\n",
       "    </tr>\n",
       "    <tr>\n",
       "      <th>4</th>\n",
       "      <td>Vayalapadu</td>\n",
       "      <td>Tomato</td>\n",
       "      <td>Local</td>\n",
       "      <td>FAQ</td>\n",
       "      <td>24/02/2023</td>\n",
       "      <td>640</td>\n",
       "      <td>2160.0</td>\n",
       "    </tr>\n",
       "    <tr>\n",
       "      <th>...</th>\n",
       "      <td>...</td>\n",
       "      <td>...</td>\n",
       "      <td>...</td>\n",
       "      <td>...</td>\n",
       "      <td>...</td>\n",
       "      <td>...</td>\n",
       "      <td>...</td>\n",
       "    </tr>\n",
       "    <tr>\n",
       "      <th>6430</th>\n",
       "      <td>Diamond Harbour(South 24-pgs)</td>\n",
       "      <td>Onion</td>\n",
       "      <td>Red</td>\n",
       "      <td>FAQ</td>\n",
       "      <td>24/02/2023</td>\n",
       "      <td>1400</td>\n",
       "      <td>1500.0</td>\n",
       "    </tr>\n",
       "    <tr>\n",
       "      <th>6431</th>\n",
       "      <td>Diamond Harbour(South 24-pgs)</td>\n",
       "      <td>Potato</td>\n",
       "      <td>Jyoti</td>\n",
       "      <td>FAQ</td>\n",
       "      <td>24/02/2023</td>\n",
       "      <td>760</td>\n",
       "      <td>800.0</td>\n",
       "    </tr>\n",
       "    <tr>\n",
       "      <th>6432</th>\n",
       "      <td>Diamond Harbour(South 24-pgs)</td>\n",
       "      <td>Rice</td>\n",
       "      <td>Common</td>\n",
       "      <td>FAQ</td>\n",
       "      <td>24/02/2023</td>\n",
       "      <td>2700</td>\n",
       "      <td>2900.0</td>\n",
       "    </tr>\n",
       "    <tr>\n",
       "      <th>6433</th>\n",
       "      <td>Diamond Harbour(South 24-pgs)</td>\n",
       "      <td>Rice</td>\n",
       "      <td>Super Fine</td>\n",
       "      <td>FAQ</td>\n",
       "      <td>24/02/2023</td>\n",
       "      <td>4700</td>\n",
       "      <td>4900.0</td>\n",
       "    </tr>\n",
       "    <tr>\n",
       "      <th>6434</th>\n",
       "      <td>Diamond Harbour(South 24-pgs)</td>\n",
       "      <td>Tomato</td>\n",
       "      <td>Tomato</td>\n",
       "      <td>FAQ</td>\n",
       "      <td>24/02/2023</td>\n",
       "      <td>1400</td>\n",
       "      <td>1600.0</td>\n",
       "    </tr>\n",
       "  </tbody>\n",
       "</table>\n",
       "<p>6435 rows × 7 columns</p>\n",
       "</div>"
      ],
      "text/plain": [
       "                             Market     Commodity     Variety Grade  \\\n",
       "0                          Chittoor  Gur(Jaggery)        NO 1   FAQ   \n",
       "1                          Chittoor  Gur(Jaggery)        NO 2   FAQ   \n",
       "2                          Chittoor  Gur(Jaggery)        NO 3   FAQ   \n",
       "3                          Punganur        Tomato      Hybrid   FAQ   \n",
       "4                        Vayalapadu        Tomato       Local   FAQ   \n",
       "...                             ...           ...         ...   ...   \n",
       "6430  Diamond Harbour(South 24-pgs)         Onion         Red   FAQ   \n",
       "6431  Diamond Harbour(South 24-pgs)        Potato       Jyoti   FAQ   \n",
       "6432  Diamond Harbour(South 24-pgs)          Rice      Common   FAQ   \n",
       "6433  Diamond Harbour(South 24-pgs)          Rice  Super Fine   FAQ   \n",
       "6434  Diamond Harbour(South 24-pgs)        Tomato      Tomato   FAQ   \n",
       "\n",
       "     Arrival_Date  Min_x0020_Price  Max_x0020_Price  \n",
       "0      24/02/2023             4000           4100.0  \n",
       "1      24/02/2023             3000           3500.0  \n",
       "2      24/02/2023             2300           2300.0  \n",
       "3      24/02/2023             1340           2000.0  \n",
       "4      24/02/2023              640           2160.0  \n",
       "...           ...              ...              ...  \n",
       "6430   24/02/2023             1400           1500.0  \n",
       "6431   24/02/2023              760            800.0  \n",
       "6432   24/02/2023             2700           2900.0  \n",
       "6433   24/02/2023             4700           4900.0  \n",
       "6434   24/02/2023             1400           1600.0  \n",
       "\n",
       "[6435 rows x 7 columns]"
      ]
     },
     "execution_count": 6,
     "metadata": {},
     "output_type": "execute_result"
    }
   ],
   "source": [
    "df.iloc[:,[4,5,6,7,8,9,10]]"
   ]
  },
  {
   "cell_type": "markdown",
   "metadata": {},
   "source": [
    "only need above columns"
   ]
  },
  {
   "cell_type": "code",
   "execution_count": 7,
   "metadata": {},
   "outputs": [],
   "source": [
    "from sklearn.preprocessing import LabelEncoder\n",
    "le=LabelEncoder()"
   ]
  },
  {
   "cell_type": "code",
   "execution_count": 8,
   "metadata": {},
   "outputs": [],
   "source": [
    "df['Market']=le.fit_transform(df['Market'])\n",
    "df['Commodity']=le.fit_transform(df['Commodity'])\n",
    "df['Variety']=le.fit_transform(df['Variety'])\n",
    "df['Grade']=le.fit_transform(df['Grade'])\n"
   ]
  },
  {
   "cell_type": "code",
   "execution_count": 9,
   "metadata": {},
   "outputs": [
    {
     "name": "stdout",
     "output_type": "stream",
     "text": [
      "<class 'pandas.core.frame.DataFrame'>\n",
      "RangeIndex: 6435 entries, 0 to 6434\n",
      "Data columns (total 12 columns):\n",
      " #   Column             Non-Null Count  Dtype  \n",
      "---  ------             --------------  -----  \n",
      " 0   diffgr:id          6435 non-null   object \n",
      " 1   msdata:rowOrder    6435 non-null   int64  \n",
      " 2   State              6435 non-null   object \n",
      " 3   District           6435 non-null   object \n",
      " 4   Market             6435 non-null   int32  \n",
      " 5   Commodity          6435 non-null   int32  \n",
      " 6   Variety            6435 non-null   int32  \n",
      " 7   Grade              6435 non-null   int32  \n",
      " 8   Arrival_Date       6435 non-null   object \n",
      " 9   Min_x0020_Price    6435 non-null   int64  \n",
      " 10  Max_x0020_Price    6435 non-null   float64\n",
      " 11  Modal_x0020_Price  6435 non-null   float64\n",
      "dtypes: float64(2), int32(4), int64(2), object(4)\n",
      "memory usage: 502.9+ KB\n"
     ]
    }
   ],
   "source": [
    "df.info()"
   ]
  },
  {
   "cell_type": "code",
   "execution_count": 10,
   "metadata": {},
   "outputs": [
    {
     "data": {
      "text/html": [
       "<div>\n",
       "<style scoped>\n",
       "    .dataframe tbody tr th:only-of-type {\n",
       "        vertical-align: middle;\n",
       "    }\n",
       "\n",
       "    .dataframe tbody tr th {\n",
       "        vertical-align: top;\n",
       "    }\n",
       "\n",
       "    .dataframe thead th {\n",
       "        text-align: right;\n",
       "    }\n",
       "</style>\n",
       "<table border=\"1\" class=\"dataframe\">\n",
       "  <thead>\n",
       "    <tr style=\"text-align: right;\">\n",
       "      <th></th>\n",
       "      <th>diffgr:id</th>\n",
       "      <th>msdata:rowOrder</th>\n",
       "      <th>State</th>\n",
       "      <th>District</th>\n",
       "      <th>Market</th>\n",
       "      <th>Commodity</th>\n",
       "      <th>Variety</th>\n",
       "      <th>Grade</th>\n",
       "      <th>Arrival_Date</th>\n",
       "      <th>Min_x0020_Price</th>\n",
       "      <th>Max_x0020_Price</th>\n",
       "      <th>Modal_x0020_Price</th>\n",
       "    </tr>\n",
       "  </thead>\n",
       "  <tbody>\n",
       "    <tr>\n",
       "      <th>0</th>\n",
       "      <td>Table1</td>\n",
       "      <td>0</td>\n",
       "      <td>Andhra Pradesh</td>\n",
       "      <td>Chittor</td>\n",
       "      <td>124</td>\n",
       "      <td>85</td>\n",
       "      <td>222</td>\n",
       "      <td>0</td>\n",
       "      <td>24/02/2023</td>\n",
       "      <td>4000</td>\n",
       "      <td>4100.0</td>\n",
       "      <td>4000.0</td>\n",
       "    </tr>\n",
       "    <tr>\n",
       "      <th>1</th>\n",
       "      <td>Table2</td>\n",
       "      <td>1</td>\n",
       "      <td>Andhra Pradesh</td>\n",
       "      <td>Chittor</td>\n",
       "      <td>124</td>\n",
       "      <td>85</td>\n",
       "      <td>223</td>\n",
       "      <td>0</td>\n",
       "      <td>24/02/2023</td>\n",
       "      <td>3000</td>\n",
       "      <td>3500.0</td>\n",
       "      <td>3500.0</td>\n",
       "    </tr>\n",
       "    <tr>\n",
       "      <th>2</th>\n",
       "      <td>Table3</td>\n",
       "      <td>2</td>\n",
       "      <td>Andhra Pradesh</td>\n",
       "      <td>Chittor</td>\n",
       "      <td>124</td>\n",
       "      <td>85</td>\n",
       "      <td>224</td>\n",
       "      <td>0</td>\n",
       "      <td>24/02/2023</td>\n",
       "      <td>2300</td>\n",
       "      <td>2300.0</td>\n",
       "      <td>2300.0</td>\n",
       "    </tr>\n",
       "    <tr>\n",
       "      <th>3</th>\n",
       "      <td>Table4</td>\n",
       "      <td>3</td>\n",
       "      <td>Andhra Pradesh</td>\n",
       "      <td>Chittor</td>\n",
       "      <td>453</td>\n",
       "      <td>166</td>\n",
       "      <td>155</td>\n",
       "      <td>0</td>\n",
       "      <td>24/02/2023</td>\n",
       "      <td>1340</td>\n",
       "      <td>2000.0</td>\n",
       "      <td>1670.0</td>\n",
       "    </tr>\n",
       "    <tr>\n",
       "      <th>4</th>\n",
       "      <td>Table5</td>\n",
       "      <td>4</td>\n",
       "      <td>Andhra Pradesh</td>\n",
       "      <td>Chittor</td>\n",
       "      <td>570</td>\n",
       "      <td>166</td>\n",
       "      <td>192</td>\n",
       "      <td>0</td>\n",
       "      <td>24/02/2023</td>\n",
       "      <td>640</td>\n",
       "      <td>2160.0</td>\n",
       "      <td>1400.0</td>\n",
       "    </tr>\n",
       "  </tbody>\n",
       "</table>\n",
       "</div>"
      ],
      "text/plain": [
       "  diffgr:id  msdata:rowOrder           State District  Market  Commodity  \\\n",
       "0    Table1                0  Andhra Pradesh  Chittor     124         85   \n",
       "1    Table2                1  Andhra Pradesh  Chittor     124         85   \n",
       "2    Table3                2  Andhra Pradesh  Chittor     124         85   \n",
       "3    Table4                3  Andhra Pradesh  Chittor     453        166   \n",
       "4    Table5                4  Andhra Pradesh  Chittor     570        166   \n",
       "\n",
       "   Variety  Grade Arrival_Date  Min_x0020_Price  Max_x0020_Price  \\\n",
       "0      222      0   24/02/2023             4000           4100.0   \n",
       "1      223      0   24/02/2023             3000           3500.0   \n",
       "2      224      0   24/02/2023             2300           2300.0   \n",
       "3      155      0   24/02/2023             1340           2000.0   \n",
       "4      192      0   24/02/2023              640           2160.0   \n",
       "\n",
       "   Modal_x0020_Price  \n",
       "0             4000.0  \n",
       "1             3500.0  \n",
       "2             2300.0  \n",
       "3             1670.0  \n",
       "4             1400.0  "
      ]
     },
     "execution_count": 10,
     "metadata": {},
     "output_type": "execute_result"
    }
   ],
   "source": [
    "\n",
    "df.head()"
   ]
  },
  {
   "cell_type": "code",
   "execution_count": 11,
   "metadata": {},
   "outputs": [],
   "source": [
    "df.drop('diffgr:id',axis=1,inplace=True)"
   ]
  },
  {
   "cell_type": "code",
   "execution_count": 12,
   "metadata": {},
   "outputs": [],
   "source": [
    "df.drop('Arrival_Date',axis=1,inplace=True)"
   ]
  },
  {
   "cell_type": "code",
   "execution_count": 13,
   "metadata": {},
   "outputs": [
    {
     "data": {
      "text/html": [
       "<div>\n",
       "<style scoped>\n",
       "    .dataframe tbody tr th:only-of-type {\n",
       "        vertical-align: middle;\n",
       "    }\n",
       "\n",
       "    .dataframe tbody tr th {\n",
       "        vertical-align: top;\n",
       "    }\n",
       "\n",
       "    .dataframe thead th {\n",
       "        text-align: right;\n",
       "    }\n",
       "</style>\n",
       "<table border=\"1\" class=\"dataframe\">\n",
       "  <thead>\n",
       "    <tr style=\"text-align: right;\">\n",
       "      <th></th>\n",
       "      <th>Market</th>\n",
       "      <th>Commodity</th>\n",
       "      <th>Variety</th>\n",
       "      <th>Grade</th>\n",
       "      <th>Min_x0020_Price</th>\n",
       "      <th>Max_x0020_Price</th>\n",
       "    </tr>\n",
       "  </thead>\n",
       "  <tbody>\n",
       "    <tr>\n",
       "      <th>0</th>\n",
       "      <td>124</td>\n",
       "      <td>85</td>\n",
       "      <td>222</td>\n",
       "      <td>0</td>\n",
       "      <td>4000</td>\n",
       "      <td>4100.0</td>\n",
       "    </tr>\n",
       "    <tr>\n",
       "      <th>1</th>\n",
       "      <td>124</td>\n",
       "      <td>85</td>\n",
       "      <td>223</td>\n",
       "      <td>0</td>\n",
       "      <td>3000</td>\n",
       "      <td>3500.0</td>\n",
       "    </tr>\n",
       "    <tr>\n",
       "      <th>2</th>\n",
       "      <td>124</td>\n",
       "      <td>85</td>\n",
       "      <td>224</td>\n",
       "      <td>0</td>\n",
       "      <td>2300</td>\n",
       "      <td>2300.0</td>\n",
       "    </tr>\n",
       "    <tr>\n",
       "      <th>3</th>\n",
       "      <td>453</td>\n",
       "      <td>166</td>\n",
       "      <td>155</td>\n",
       "      <td>0</td>\n",
       "      <td>1340</td>\n",
       "      <td>2000.0</td>\n",
       "    </tr>\n",
       "    <tr>\n",
       "      <th>4</th>\n",
       "      <td>570</td>\n",
       "      <td>166</td>\n",
       "      <td>192</td>\n",
       "      <td>0</td>\n",
       "      <td>640</td>\n",
       "      <td>2160.0</td>\n",
       "    </tr>\n",
       "    <tr>\n",
       "      <th>...</th>\n",
       "      <td>...</td>\n",
       "      <td>...</td>\n",
       "      <td>...</td>\n",
       "      <td>...</td>\n",
       "      <td>...</td>\n",
       "      <td>...</td>\n",
       "    </tr>\n",
       "    <tr>\n",
       "      <th>6430</th>\n",
       "      <td>155</td>\n",
       "      <td>118</td>\n",
       "      <td>269</td>\n",
       "      <td>0</td>\n",
       "      <td>1400</td>\n",
       "      <td>1500.0</td>\n",
       "    </tr>\n",
       "    <tr>\n",
       "      <th>6431</th>\n",
       "      <td>155</td>\n",
       "      <td>133</td>\n",
       "      <td>169</td>\n",
       "      <td>0</td>\n",
       "      <td>760</td>\n",
       "      <td>800.0</td>\n",
       "    </tr>\n",
       "    <tr>\n",
       "      <th>6432</th>\n",
       "      <td>155</td>\n",
       "      <td>139</td>\n",
       "      <td>87</td>\n",
       "      <td>0</td>\n",
       "      <td>2700</td>\n",
       "      <td>2900.0</td>\n",
       "    </tr>\n",
       "    <tr>\n",
       "      <th>6433</th>\n",
       "      <td>155</td>\n",
       "      <td>139</td>\n",
       "      <td>304</td>\n",
       "      <td>0</td>\n",
       "      <td>4700</td>\n",
       "      <td>4900.0</td>\n",
       "    </tr>\n",
       "    <tr>\n",
       "      <th>6434</th>\n",
       "      <td>155</td>\n",
       "      <td>166</td>\n",
       "      <td>319</td>\n",
       "      <td>0</td>\n",
       "      <td>1400</td>\n",
       "      <td>1600.0</td>\n",
       "    </tr>\n",
       "  </tbody>\n",
       "</table>\n",
       "<p>6435 rows × 6 columns</p>\n",
       "</div>"
      ],
      "text/plain": [
       "      Market  Commodity  Variety  Grade  Min_x0020_Price  Max_x0020_Price\n",
       "0        124         85      222      0             4000           4100.0\n",
       "1        124         85      223      0             3000           3500.0\n",
       "2        124         85      224      0             2300           2300.0\n",
       "3        453        166      155      0             1340           2000.0\n",
       "4        570        166      192      0              640           2160.0\n",
       "...      ...        ...      ...    ...              ...              ...\n",
       "6430     155        118      269      0             1400           1500.0\n",
       "6431     155        133      169      0              760            800.0\n",
       "6432     155        139       87      0             2700           2900.0\n",
       "6433     155        139      304      0             4700           4900.0\n",
       "6434     155        166      319      0             1400           1600.0\n",
       "\n",
       "[6435 rows x 6 columns]"
      ]
     },
     "execution_count": 13,
     "metadata": {},
     "output_type": "execute_result"
    }
   ],
   "source": [
    "df.iloc[:,[3,4,5,6,7,8]]"
   ]
  },
  {
   "cell_type": "code",
   "execution_count": 14,
   "metadata": {},
   "outputs": [],
   "source": [
    "## independent vs dependent\n",
    "X=df.iloc[:,[3,4,5,6,7,8]].values\n",
    "y=df.iloc[:,-1].values"
   ]
  },
  {
   "cell_type": "code",
   "execution_count": null,
   "metadata": {},
   "outputs": [],
   "source": []
  },
  {
   "cell_type": "code",
   "execution_count": 15,
   "metadata": {},
   "outputs": [],
   "source": [
    "## train test split\n",
    "from sklearn.model_selection import train_test_split\n",
    "X_train,X_test,y_train,y_test=train_test_split(X,y,test_size=0.25,random_state=42)"
   ]
  },
  {
   "cell_type": "code",
   "execution_count": 16,
   "metadata": {},
   "outputs": [],
   "source": [
    "from sklearn.preprocessing import StandardScaler\n",
    "scaler=StandardScaler()"
   ]
  },
  {
   "cell_type": "code",
   "execution_count": 17,
   "metadata": {},
   "outputs": [],
   "source": [
    "X_train=scaler.fit_transform(X_train)\n",
    "X_test=scaler.transform(X_test)"
   ]
  },
  {
   "cell_type": "code",
   "execution_count": 18,
   "metadata": {},
   "outputs": [],
   "source": [
    "from sklearn.linear_model import LinearRegression\n",
    "regression=LinearRegression()"
   ]
  },
  {
   "cell_type": "code",
   "execution_count": 19,
   "metadata": {},
   "outputs": [
    {
     "data": {
      "text/html": [
       "<style>#sk-container-id-1 {color: black;}#sk-container-id-1 pre{padding: 0;}#sk-container-id-1 div.sk-toggleable {background-color: white;}#sk-container-id-1 label.sk-toggleable__label {cursor: pointer;display: block;width: 100%;margin-bottom: 0;padding: 0.3em;box-sizing: border-box;text-align: center;}#sk-container-id-1 label.sk-toggleable__label-arrow:before {content: \"▸\";float: left;margin-right: 0.25em;color: #696969;}#sk-container-id-1 label.sk-toggleable__label-arrow:hover:before {color: black;}#sk-container-id-1 div.sk-estimator:hover label.sk-toggleable__label-arrow:before {color: black;}#sk-container-id-1 div.sk-toggleable__content {max-height: 0;max-width: 0;overflow: hidden;text-align: left;background-color: #f0f8ff;}#sk-container-id-1 div.sk-toggleable__content pre {margin: 0.2em;color: black;border-radius: 0.25em;background-color: #f0f8ff;}#sk-container-id-1 input.sk-toggleable__control:checked~div.sk-toggleable__content {max-height: 200px;max-width: 100%;overflow: auto;}#sk-container-id-1 input.sk-toggleable__control:checked~label.sk-toggleable__label-arrow:before {content: \"▾\";}#sk-container-id-1 div.sk-estimator input.sk-toggleable__control:checked~label.sk-toggleable__label {background-color: #d4ebff;}#sk-container-id-1 div.sk-label input.sk-toggleable__control:checked~label.sk-toggleable__label {background-color: #d4ebff;}#sk-container-id-1 input.sk-hidden--visually {border: 0;clip: rect(1px 1px 1px 1px);clip: rect(1px, 1px, 1px, 1px);height: 1px;margin: -1px;overflow: hidden;padding: 0;position: absolute;width: 1px;}#sk-container-id-1 div.sk-estimator {font-family: monospace;background-color: #f0f8ff;border: 1px dotted black;border-radius: 0.25em;box-sizing: border-box;margin-bottom: 0.5em;}#sk-container-id-1 div.sk-estimator:hover {background-color: #d4ebff;}#sk-container-id-1 div.sk-parallel-item::after {content: \"\";width: 100%;border-bottom: 1px solid gray;flex-grow: 1;}#sk-container-id-1 div.sk-label:hover label.sk-toggleable__label {background-color: #d4ebff;}#sk-container-id-1 div.sk-serial::before {content: \"\";position: absolute;border-left: 1px solid gray;box-sizing: border-box;top: 0;bottom: 0;left: 50%;z-index: 0;}#sk-container-id-1 div.sk-serial {display: flex;flex-direction: column;align-items: center;background-color: white;padding-right: 0.2em;padding-left: 0.2em;position: relative;}#sk-container-id-1 div.sk-item {position: relative;z-index: 1;}#sk-container-id-1 div.sk-parallel {display: flex;align-items: stretch;justify-content: center;background-color: white;position: relative;}#sk-container-id-1 div.sk-item::before, #sk-container-id-1 div.sk-parallel-item::before {content: \"\";position: absolute;border-left: 1px solid gray;box-sizing: border-box;top: 0;bottom: 0;left: 50%;z-index: -1;}#sk-container-id-1 div.sk-parallel-item {display: flex;flex-direction: column;z-index: 1;position: relative;background-color: white;}#sk-container-id-1 div.sk-parallel-item:first-child::after {align-self: flex-end;width: 50%;}#sk-container-id-1 div.sk-parallel-item:last-child::after {align-self: flex-start;width: 50%;}#sk-container-id-1 div.sk-parallel-item:only-child::after {width: 0;}#sk-container-id-1 div.sk-dashed-wrapped {border: 1px dashed gray;margin: 0 0.4em 0.5em 0.4em;box-sizing: border-box;padding-bottom: 0.4em;background-color: white;}#sk-container-id-1 div.sk-label label {font-family: monospace;font-weight: bold;display: inline-block;line-height: 1.2em;}#sk-container-id-1 div.sk-label-container {text-align: center;}#sk-container-id-1 div.sk-container {/* jupyter's `normalize.less` sets `[hidden] { display: none; }` but bootstrap.min.css set `[hidden] { display: none !important; }` so we also need the `!important` here to be able to override the default hidden behavior on the sphinx rendered scikit-learn.org. See: https://github.com/scikit-learn/scikit-learn/issues/21755 */display: inline-block !important;position: relative;}#sk-container-id-1 div.sk-text-repr-fallback {display: none;}</style><div id=\"sk-container-id-1\" class=\"sk-top-container\"><div class=\"sk-text-repr-fallback\"><pre>LinearRegression()</pre><b>In a Jupyter environment, please rerun this cell to show the HTML representation or trust the notebook. <br />On GitHub, the HTML representation is unable to render, please try loading this page with nbviewer.org.</b></div><div class=\"sk-container\" hidden><div class=\"sk-item\"><div class=\"sk-estimator sk-toggleable\"><input class=\"sk-toggleable__control sk-hidden--visually\" id=\"sk-estimator-id-1\" type=\"checkbox\" checked><label for=\"sk-estimator-id-1\" class=\"sk-toggleable__label sk-toggleable__label-arrow\">LinearRegression</label><div class=\"sk-toggleable__content\"><pre>LinearRegression()</pre></div></div></div></div></div>"
      ],
      "text/plain": [
       "LinearRegression()"
      ]
     },
     "execution_count": 19,
     "metadata": {},
     "output_type": "execute_result"
    }
   ],
   "source": [
    "regression.fit(X_train,y_train)"
   ]
  },
  {
   "cell_type": "code",
   "execution_count": 20,
   "metadata": {},
   "outputs": [],
   "source": [
    "y_pred=regression.predict(X_test)"
   ]
  },
  {
   "cell_type": "code",
   "execution_count": 21,
   "metadata": {},
   "outputs": [],
   "source": [
    "from sklearn.model_selection import cross_val_score\n",
    "validation_score=cross_val_score(regression,X_train,y_train,scoring='neg_mean_squared_error',cv=3)"
   ]
  },
  {
   "cell_type": "code",
   "execution_count": 22,
   "metadata": {},
   "outputs": [
    {
     "data": {
      "text/plain": [
       "-70010.88341908222"
      ]
     },
     "execution_count": 22,
     "metadata": {},
     "output_type": "execute_result"
    }
   ],
   "source": [
    "np.mean(validation_score)"
   ]
  },
  {
   "cell_type": "markdown",
   "metadata": {},
   "source": [
    "performance metrics"
   ]
  },
  {
   "cell_type": "code",
   "execution_count": 23,
   "metadata": {},
   "outputs": [
    {
     "name": "stdout",
     "output_type": "stream",
     "text": [
      "74916.34940057689\n",
      "85.71847889455488\n",
      "273.7085117430163\n"
     ]
    }
   ],
   "source": [
    "## performance matrics\n",
    "from sklearn.metrics import mean_absolute_error,mean_squared_error\n",
    "mse=mean_squared_error(y_test,y_pred)\n",
    "mae=mean_absolute_error(y_test,y_pred)\n",
    "rmse=np.sqrt(mse)\n",
    "print(mse)\n",
    "print(mae)\n",
    "print(rmse)"
   ]
  },
  {
   "cell_type": "markdown",
   "metadata": {},
   "source": [
    "R squared"
   ]
  },
  {
   "cell_type": "code",
   "execution_count": 24,
   "metadata": {},
   "outputs": [
    {
     "name": "stdout",
     "output_type": "stream",
     "text": [
      "0.9998833191805016\n"
     ]
    }
   ],
   "source": [
    "## r squared\n",
    "from sklearn.metrics import r2_score\n",
    "score=r2_score(y_test,y_pred)\n",
    "print(score)"
   ]
  },
  {
   "cell_type": "markdown",
   "metadata": {},
   "source": [
    "model accuracy is 99%"
   ]
  },
  {
   "cell_type": "code",
   "execution_count": 25,
   "metadata": {},
   "outputs": [
    {
     "data": {
      "text/plain": [
       "<matplotlib.collections.PathCollection at 0x1e22eee7890>"
      ]
     },
     "execution_count": 25,
     "metadata": {},
     "output_type": "execute_result"
    },
    {
     "data": {
      "image/png": "[encoded data removed]",
      "text/plain": [
       "<Figure size 640x480 with 1 Axes>"
      ]
     },
     "metadata": {},
     "output_type": "display_data"
    }
   ],
   "source": [
    "## assumption\n",
    "plt.scatter(y_test,y_pred)"
   ]
  },
  {
   "cell_type": "code",
   "execution_count": 26,
   "metadata": {},
   "outputs": [
    {
     "name": "stdout",
     "output_type": "stream",
     "text": [
      "[ 55.55422021  20.20057082 219.59394295 ... -35.94790165 -41.26233383\n",
      " -38.61277003]\n"
     ]
    }
   ],
   "source": [
    "residuals=y_test-y_pred\n",
    "print(residuals)"
   ]
  },
  {
   "cell_type": "markdown",
   "metadata": {},
   "source": [
    "## normality"
   ]
  },
  {
   "cell_type": "code",
   "execution_count": 27,
   "metadata": {},
   "outputs": [
    {
     "data": {
      "text/plain": [
       "<seaborn.axisgrid.FacetGrid at 0x1e22e0e3750>"
      ]
     },
     "execution_count": 27,
     "metadata": {},
     "output_type": "execute_result"
    },
    {
     "data": {
      "image/png": "[encoded data removed]",
      "text/plain": [
       "<Figure size 500x500 with 1 Axes>"
      ]
     },
     "metadata": {},
     "output_type": "display_data"
    }
   ],
   "source": [
    "sns.displot(residuals,kind='kde')"
   ]
  },
  {
   "cell_type": "markdown",
   "metadata": {},
   "source": [
    "data points is nomalty distribuated"
   ]
  },
  {
   "cell_type": "code",
   "execution_count": 28,
   "metadata": {},
   "outputs": [
    {
     "data": {
      "text/plain": [
       "<matplotlib.collections.PathCollection at 0x1e22f88f3d0>"
      ]
     },
     "execution_count": 28,
     "metadata": {},
     "output_type": "execute_result"
    },
    {
     "data": {
      "image/png": "[encoded data removed]",
      "text/plain": [
       "<Figure size 640x480 with 1 Axes>"
      ]
     },
     "metadata": {},
     "output_type": "display_data"
    }
   ],
   "source": [
    "plt.scatter(y_pred,residuals)"
   ]
  },
  {
   "cell_type": "markdown",
   "metadata": {},
   "source": [
    "## linearity"
   ]
  },
  {
   "cell_type": "code",
   "execution_count": 29,
   "metadata": {},
   "outputs": [
    {
     "data": {
      "text/plain": [
       "<Axes: xlabel='Min_x0020_Price', ylabel='Modal_x0020_Price'>"
      ]
     },
     "execution_count": 29,
     "metadata": {},
     "output_type": "execute_result"
    },
    {
     "data": {
      "image/png": "[encoded data removed]",
      "text/plain": [
       "<Figure size 640x480 with 1 Axes>"
      ]
     },
     "metadata": {},
     "output_type": "display_data"
    }
   ],
   "source": [
    "sns.regplot(x=df['Min_x0020_Price'],y=df['Modal_x0020_Price'])"
   ]
  },
  {
   "cell_type": "code",
   "execution_count": 30,
   "metadata": {},
   "outputs": [
    {
     "data": {
      "text/plain": [
       "<Axes: xlabel='Max_x0020_Price', ylabel='Modal_x0020_Price'>"
      ]
     },
     "execution_count": 30,
     "metadata": {},
     "output_type": "execute_result"
    },
    {
     "data": {
      "image/png": "[encoded data removed]",
      "text/plain": [
       "<Figure size 640x480 with 1 Axes>"
      ]
     },
     "metadata": {},
     "output_type": "display_data"
    }
   ],
   "source": [
    "sns.regplot(x=df['Max_x0020_Price'],y=df['Modal_x0020_Price'])"
   ]
  },
  {
   "cell_type": "code",
   "execution_count": 31,
   "metadata": {},
   "outputs": [],
   "source": [
    "## linear regression using ols\n",
    "import statsmodels.api  as sm"
   ]
  },
  {
   "cell_type": "code",
   "execution_count": 32,
   "metadata": {},
   "outputs": [],
   "source": [
    "model=sm.OLS(y_train,X_train).fit()"
   ]
  },
  {
   "cell_type": "code",
   "execution_count": 33,
   "metadata": {},
   "outputs": [
    {
     "name": "stdout",
     "output_type": "stream",
     "text": [
      "                                 OLS Regression Results                                \n",
      "=======================================================================================\n",
      "Dep. Variable:                      y   R-squared (uncentered):                   0.960\n",
      "Model:                            OLS   Adj. R-squared (uncentered):              0.960\n",
      "Method:                 Least Squares   F-statistic:                          1.932e+04\n",
      "Date:                Mon, 26 Aug 2024   Prob (F-statistic):                        0.00\n",
      "Time:                        11:03:30   Log-Likelihood:                         -47201.\n",
      "No. Observations:                4826   AIC:                                  9.441e+04\n",
      "Df Residuals:                    4820   BIC:                                  9.445e+04\n",
      "Df Model:                           6                                                  \n",
      "Covariance Type:            nonrobust                                                  \n",
      "==============================================================================\n",
      "                 coef    std err          t      P>|t|      [0.025      0.975]\n",
      "------------------------------------------------------------------------------\n",
      "x1             0.4337     61.696      0.007      0.994    -120.519     121.387\n",
      "x2           -10.8200     68.024     -0.159      0.874    -144.178     122.538\n",
      "x3            13.9720     67.639      0.207      0.836    -118.631     146.575\n",
      "x4           -11.0888     62.458     -0.178      0.859    -133.535     111.358\n",
      "x5          1.044e+04    885.173     11.793      0.000    8703.574    1.22e+04\n",
      "x6          1.056e+04    885.117     11.932      0.000    8825.695    1.23e+04\n",
      "==============================================================================\n",
      "Omnibus:                     8224.670   Durbin-Watson:                   0.007\n",
      "Prob(Omnibus):                  0.000   Jarque-Bera (JB):          8022139.697\n",
      "Skew:                          11.668   Prob(JB):                         0.00\n",
      "Kurtosis:                     201.368   Cond. No.                         28.9\n",
      "==============================================================================\n",
      "\n",
      "Notes:\n",
      "[1] R² is computed without centering (uncentered) since the model does not contain a constant.\n",
      "[2] Standard Errors assume that the covariance matrix of the errors is correctly specified.\n"
     ]
    }
   ],
   "source": [
    "print(model.summary())"
   ]
  },
  {
   "cell_type": "markdown",
   "metadata": {},
   "source": [
    "we can see that the coef from ols and regression model is same, model prediction and creations is correct"
   ]
  },
  {
   "cell_type": "code",
   "execution_count": 34,
   "metadata": {},
   "outputs": [
    {
     "data": {
      "text/plain": [
       "array([ 4.33670362e-01, -1.08200312e+01,  1.39719831e+01, -1.10888400e+01,\n",
       "        1.04389161e+04,  1.05609276e+04])"
      ]
     },
     "execution_count": 34,
     "metadata": {},
     "output_type": "execute_result"
    }
   ],
   "source": [
    "regression.coef_"
   ]
  },
  {
   "cell_type": "code",
   "execution_count": 35,
   "metadata": {},
   "outputs": [
    {
     "data": {
      "text/html": [
       "<div>\n",
       "<style scoped>\n",
       "    .dataframe tbody tr th:only-of-type {\n",
       "        vertical-align: middle;\n",
       "    }\n",
       "\n",
       "    .dataframe tbody tr th {\n",
       "        vertical-align: top;\n",
       "    }\n",
       "\n",
       "    .dataframe thead th {\n",
       "        text-align: right;\n",
       "    }\n",
       "</style>\n",
       "<table border=\"1\" class=\"dataframe\">\n",
       "  <thead>\n",
       "    <tr style=\"text-align: right;\">\n",
       "      <th></th>\n",
       "      <th>Market</th>\n",
       "      <th>Commodity</th>\n",
       "      <th>Variety</th>\n",
       "      <th>Grade</th>\n",
       "      <th>Min_x0020_Price</th>\n",
       "      <th>Max_x0020_Price</th>\n",
       "    </tr>\n",
       "  </thead>\n",
       "  <tbody>\n",
       "    <tr>\n",
       "      <th>0</th>\n",
       "      <td>124</td>\n",
       "      <td>85</td>\n",
       "      <td>222</td>\n",
       "      <td>0</td>\n",
       "      <td>4000</td>\n",
       "      <td>4100.0</td>\n",
       "    </tr>\n",
       "    <tr>\n",
       "      <th>1</th>\n",
       "      <td>124</td>\n",
       "      <td>85</td>\n",
       "      <td>223</td>\n",
       "      <td>0</td>\n",
       "      <td>3000</td>\n",
       "      <td>3500.0</td>\n",
       "    </tr>\n",
       "    <tr>\n",
       "      <th>2</th>\n",
       "      <td>124</td>\n",
       "      <td>85</td>\n",
       "      <td>224</td>\n",
       "      <td>0</td>\n",
       "      <td>2300</td>\n",
       "      <td>2300.0</td>\n",
       "    </tr>\n",
       "    <tr>\n",
       "      <th>3</th>\n",
       "      <td>453</td>\n",
       "      <td>166</td>\n",
       "      <td>155</td>\n",
       "      <td>0</td>\n",
       "      <td>1340</td>\n",
       "      <td>2000.0</td>\n",
       "    </tr>\n",
       "    <tr>\n",
       "      <th>4</th>\n",
       "      <td>570</td>\n",
       "      <td>166</td>\n",
       "      <td>192</td>\n",
       "      <td>0</td>\n",
       "      <td>640</td>\n",
       "      <td>2160.0</td>\n",
       "    </tr>\n",
       "    <tr>\n",
       "      <th>...</th>\n",
       "      <td>...</td>\n",
       "      <td>...</td>\n",
       "      <td>...</td>\n",
       "      <td>...</td>\n",
       "      <td>...</td>\n",
       "      <td>...</td>\n",
       "    </tr>\n",
       "    <tr>\n",
       "      <th>6430</th>\n",
       "      <td>155</td>\n",
       "      <td>118</td>\n",
       "      <td>269</td>\n",
       "      <td>0</td>\n",
       "      <td>1400</td>\n",
       "      <td>1500.0</td>\n",
       "    </tr>\n",
       "    <tr>\n",
       "      <th>6431</th>\n",
       "      <td>155</td>\n",
       "      <td>133</td>\n",
       "      <td>169</td>\n",
       "      <td>0</td>\n",
       "      <td>760</td>\n",
       "      <td>800.0</td>\n",
       "    </tr>\n",
       "    <tr>\n",
       "      <th>6432</th>\n",
       "      <td>155</td>\n",
       "      <td>139</td>\n",
       "      <td>87</td>\n",
       "      <td>0</td>\n",
       "      <td>2700</td>\n",
       "      <td>2900.0</td>\n",
       "    </tr>\n",
       "    <tr>\n",
       "      <th>6433</th>\n",
       "      <td>155</td>\n",
       "      <td>139</td>\n",
       "      <td>304</td>\n",
       "      <td>0</td>\n",
       "      <td>4700</td>\n",
       "      <td>4900.0</td>\n",
       "    </tr>\n",
       "    <tr>\n",
       "      <th>6434</th>\n",
       "      <td>155</td>\n",
       "      <td>166</td>\n",
       "      <td>319</td>\n",
       "      <td>0</td>\n",
       "      <td>1400</td>\n",
       "      <td>1600.0</td>\n",
       "    </tr>\n",
       "  </tbody>\n",
       "</table>\n",
       "<p>6435 rows × 6 columns</p>\n",
       "</div>"
      ],
      "text/plain": [
       "      Market  Commodity  Variety  Grade  Min_x0020_Price  Max_x0020_Price\n",
       "0        124         85      222      0             4000           4100.0\n",
       "1        124         85      223      0             3000           3500.0\n",
       "2        124         85      224      0             2300           2300.0\n",
       "3        453        166      155      0             1340           2000.0\n",
       "4        570        166      192      0              640           2160.0\n",
       "...      ...        ...      ...    ...              ...              ...\n",
       "6430     155        118      269      0             1400           1500.0\n",
       "6431     155        133      169      0              760            800.0\n",
       "6432     155        139       87      0             2700           2900.0\n",
       "6433     155        139      304      0             4700           4900.0\n",
       "6434     155        166      319      0             1400           1600.0\n",
       "\n",
       "[6435 rows x 6 columns]"
      ]
     },
     "execution_count": 35,
     "metadata": {},
     "output_type": "execute_result"
    }
   ],
   "source": [
    "df.iloc[:,[3,4,5,6,7,8]]"
   ]
  },
  {
   "cell_type": "code",
   "execution_count": 36,
   "metadata": {},
   "outputs": [
    {
     "data": {
      "text/html": [
       "<div>\n",
       "<style scoped>\n",
       "    .dataframe tbody tr th:only-of-type {\n",
       "        vertical-align: middle;\n",
       "    }\n",
       "\n",
       "    .dataframe tbody tr th {\n",
       "        vertical-align: top;\n",
       "    }\n",
       "\n",
       "    .dataframe thead th {\n",
       "        text-align: right;\n",
       "    }\n",
       "</style>\n",
       "<table border=\"1\" class=\"dataframe\">\n",
       "  <thead>\n",
       "    <tr style=\"text-align: right;\">\n",
       "      <th></th>\n",
       "      <th>msdata:rowOrder</th>\n",
       "      <th>State</th>\n",
       "      <th>District</th>\n",
       "      <th>Market</th>\n",
       "      <th>Commodity</th>\n",
       "      <th>Variety</th>\n",
       "      <th>Grade</th>\n",
       "      <th>Min_x0020_Price</th>\n",
       "      <th>Max_x0020_Price</th>\n",
       "      <th>Modal_x0020_Price</th>\n",
       "    </tr>\n",
       "  </thead>\n",
       "  <tbody>\n",
       "    <tr>\n",
       "      <th>0</th>\n",
       "      <td>0</td>\n",
       "      <td>Andhra Pradesh</td>\n",
       "      <td>Chittor</td>\n",
       "      <td>124</td>\n",
       "      <td>85</td>\n",
       "      <td>222</td>\n",
       "      <td>0</td>\n",
       "      <td>4000</td>\n",
       "      <td>4100.0</td>\n",
       "      <td>4000.0</td>\n",
       "    </tr>\n",
       "    <tr>\n",
       "      <th>1</th>\n",
       "      <td>1</td>\n",
       "      <td>Andhra Pradesh</td>\n",
       "      <td>Chittor</td>\n",
       "      <td>124</td>\n",
       "      <td>85</td>\n",
       "      <td>223</td>\n",
       "      <td>0</td>\n",
       "      <td>3000</td>\n",
       "      <td>3500.0</td>\n",
       "      <td>3500.0</td>\n",
       "    </tr>\n",
       "    <tr>\n",
       "      <th>2</th>\n",
       "      <td>2</td>\n",
       "      <td>Andhra Pradesh</td>\n",
       "      <td>Chittor</td>\n",
       "      <td>124</td>\n",
       "      <td>85</td>\n",
       "      <td>224</td>\n",
       "      <td>0</td>\n",
       "      <td>2300</td>\n",
       "      <td>2300.0</td>\n",
       "      <td>2300.0</td>\n",
       "    </tr>\n",
       "    <tr>\n",
       "      <th>3</th>\n",
       "      <td>3</td>\n",
       "      <td>Andhra Pradesh</td>\n",
       "      <td>Chittor</td>\n",
       "      <td>453</td>\n",
       "      <td>166</td>\n",
       "      <td>155</td>\n",
       "      <td>0</td>\n",
       "      <td>1340</td>\n",
       "      <td>2000.0</td>\n",
       "      <td>1670.0</td>\n",
       "    </tr>\n",
       "    <tr>\n",
       "      <th>4</th>\n",
       "      <td>4</td>\n",
       "      <td>Andhra Pradesh</td>\n",
       "      <td>Chittor</td>\n",
       "      <td>570</td>\n",
       "      <td>166</td>\n",
       "      <td>192</td>\n",
       "      <td>0</td>\n",
       "      <td>640</td>\n",
       "      <td>2160.0</td>\n",
       "      <td>1400.0</td>\n",
       "    </tr>\n",
       "  </tbody>\n",
       "</table>\n",
       "</div>"
      ],
      "text/plain": [
       "   msdata:rowOrder           State District  Market  Commodity  Variety  \\\n",
       "0                0  Andhra Pradesh  Chittor     124         85      222   \n",
       "1                1  Andhra Pradesh  Chittor     124         85      223   \n",
       "2                2  Andhra Pradesh  Chittor     124         85      224   \n",
       "3                3  Andhra Pradesh  Chittor     453        166      155   \n",
       "4                4  Andhra Pradesh  Chittor     570        166      192   \n",
       "\n",
       "   Grade  Min_x0020_Price  Max_x0020_Price  Modal_x0020_Price  \n",
       "0      0             4000           4100.0             4000.0  \n",
       "1      0             3000           3500.0             3500.0  \n",
       "2      0             2300           2300.0             2300.0  \n",
       "3      0             1340           2000.0             1670.0  \n",
       "4      0              640           2160.0             1400.0  "
      ]
     },
     "execution_count": 36,
     "metadata": {},
     "output_type": "execute_result"
    }
   ],
   "source": [
    "df.head()"
   ]
  },
  {
   "cell_type": "code",
   "execution_count": 37,
   "metadata": {},
   "outputs": [
    {
     "data": {
      "text/plain": [
       "array([1357.00175002])"
      ]
     },
     "execution_count": 37,
     "metadata": {},
     "output_type": "execute_result"
    }
   ],
   "source": [
    "regression.predict(scaler.transform([[570,166,192,0,640,2160]]))"
   ]
  },
  {
   "cell_type": "markdown",
   "metadata": {},
   "source": [
    "so the predicted price of tomato(166), local variety of FAQ grade with min_price=640 and max_price=2160 is 1357.00"
   ]
  },
  {
   "cell_type": "code",
   "execution_count": null,
   "metadata": {},
   "outputs": [],
   "source": []
  }
 ],
 "metadata": {
  "kernelspec": {
   "display_name": "base",
   "language": "python",
   "name": "python3"
  },
  "language_info": {
   "codemirror_mode": {
    "name": "ipython",
    "version": 3
   },
   "file_extension": ".py",
   "mimetype": "text/x-python",
   "name": "python",
   "nbconvert_exporter": "python",
   "pygments_lexer": "ipython3",
   "version": "3.11.5"
  }
 },
 "nbformat": 4,
 "nbformat_minor": 2
}
